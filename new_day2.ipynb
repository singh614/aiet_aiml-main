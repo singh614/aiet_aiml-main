{
 "cells": [
  {
   "cell_type": "markdown",
   "metadata": {},
   "source": [
    "## Day 2 \n",
    "#### Chat Bot"
   ]
  },
  {
   "cell_type": "markdown",
   "metadata": {},
   "source": [
    "Regular Expression Symbols | Description\n",
    "---------------------------|------------\n",
    "()      | Group\n",
    ".       | Any character (except new line)\n",
    "\\*       | zero or more occurrences\n",
    "[]      | set of characters\n",
    "a-z     | all small alphabet\n",
    "A-Z     | All caps alphabet\n",
    "0-9     | all numbers\n",
    "^       | starting with\n",
    "$       | ends with\n",
    "?       | zero or one occurrence only\n",
    "\\+       | one or more occurrence\n",
    "\\{}      | exact number of occurrence\n",
    "\\w      | only word characters (alphabet, numbers and underscore)\n",
    "\\W      | not word characters\n"
   ]
  },
  {
   "cell_type": "code",
   "execution_count": 2,
   "metadata": {},
   "outputs": [],
   "source": [
    "import nltk\n",
    "from nltk.chat.util import Chat, reflections"
   ]
  },
  {
   "cell_type": "code",
   "execution_count": 3,
   "metadata": {},
   "outputs": [],
   "source": [
    "qn1 = r'how are you'  # raw string (more f-string, b-string...)\n",
    "ans1 = [\n",
    "    'all well',\n",
    "    'I am good',    \n",
    "    'awesome' \n",
    "]\n",
    "\n",
    "qn2 = r'(.*)what (.*)do(.*)'\n",
    "ans2 = [    \n",
    "    'I can reply to your queries',    \n",
    "    'I am here to answer your questions',    \n",
    "    'I can chat with you'\n",
    "]\n",
    "\n",
    "qn3 = r'(.*)your name'\n",
    "ans3 = [    \n",
    "    'my name is chatty',    \n",
    "    'I am chatty'\n",
    "]\n",
    "\n",
    "qn4 = r'(.*)mausam(.*)ba[a]*rish'  # aaj mausam kaisa hai, kya baarish hogi?\n",
    "ans4 = [    \n",
    "    'it looks it will rain today',    \n",
    "    'baarish ka mausam hai',  \n",
    "    'baarish ho sakti hai mausam kharab hai'\n",
    "]\n",
    "\n",
    "# Pairing qns with ans \n",
    "qa_pair = [\n",
    "    (qn1, ans1),\n",
    "    (qn2, ans2),\n",
    "    (qn3, ans3),\n",
    "    (qn4, ans4),\n",
    "]\n",
    "chatbot = Chat(qa_pair)"
   ]
  },
  {
   "cell_type": "code",
   "execution_count": 4,
   "metadata": {},
   "outputs": [
    {
     "name": "stdout",
     "output_type": "stream",
     "text": [
      "Q: ff\n",
      "A: None\n"
     ]
    }
   ],
   "source": [
    "question = input('Ask Something: ') # input question\n",
    "\n",
    "reply = chatbot.respond(question) # respond with stored question & answer pairs\n",
    "\n",
    "# print Qn & Ans\n",
    "print('Q:', question) \n",
    "print('A:', reply) "
   ]
  },
  {
   "cell_type": "code",
   "execution_count": 5,
   "metadata": {},
   "outputs": [
    {
     "name": "stdout",
     "output_type": "stream",
     "text": [
      "Speak:\n",
      "Question: hey what can you do for me\n",
      "\n",
      "Answer: I can chat with you\n"
     ]
    },
    {
     "ename": "",
     "evalue": "",
     "output_type": "error",
     "traceback": [
      "\u001b[1;31mCannot execute code, session has been disposed. Please try restarting the Kernel."
     ]
    },
    {
     "ename": "",
     "evalue": "",
     "output_type": "error",
     "traceback": [
      "\u001b[1;31mThe Kernel crashed while executing code in the the current cell or a previous cell. Please review the code in the cell(s) to identify a possible cause of the failure. Click <a href='https://aka.ms/vscodeJupyterKernelCrash'>here</a> for more info. View Jupyter <a href='command:jupyter.viewOutput'>log</a> for further details."
     ]
    }
   ],
   "source": [
    "import speech_recognition as sr\n",
    "import pyttsx3\n",
    "from nltk.chat.util import Chat\n",
    "\n",
    "chatbot = Chat(qa_pair)\n",
    "\n",
    "spk = pyttsx3.init()\n",
    "spk.setProperty('rate', 150)    # words per minute\n",
    "spk.setProperty('volume', 1.0)  # 100% volume\n",
    "\n",
    "rec = sr.Recognizer()\n",
    "\n",
    "with sr.Microphone() as mic:\n",
    "    print('Speak:')\n",
    "    audio = rec.listen(mic, timeout=2, phrase_time_limit=4) # timeout = waits before saying speak \n",
    "                                                            # phrase_time_limit = wait b/w phrases\n",
    "    try:\n",
    "        text = rec.recognize_google(audio)        \n",
    "        print('Question:', text, end='\\n\\n')\n",
    "\n",
    "        reply = chatbot.respond(text)\n",
    "        print('Answer:', reply)\n",
    "\n",
    "        spk.say(reply)\n",
    "        spk.runAndWait()\n",
    "    except Exception as err:\n",
    "        print('Error:', err, end = '\\n\\n')"
   ]
  }
 ],
 "metadata": {
  "kernelspec": {
   "display_name": "Python 3",
   "language": "python",
   "name": "python3"
  },
  "language_info": {
   "codemirror_mode": {
    "name": "ipython",
    "version": 3
   },
   "file_extension": ".py",
   "mimetype": "text/x-python",
   "name": "python",
   "nbconvert_exporter": "python",
   "pygments_lexer": "ipython3",
   "version": "3.10.11"
  },
  "orig_nbformat": 4
 },
 "nbformat": 4,
 "nbformat_minor": 2
}
