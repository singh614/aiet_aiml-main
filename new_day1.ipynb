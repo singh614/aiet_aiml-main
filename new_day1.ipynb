{
 "cells": [
  {
   "cell_type": "code",
   "execution_count": 1,
   "metadata": {},
   "outputs": [
    {
     "name": "stdout",
     "output_type": "stream",
     "text": [
      "Requirement already satisfied: speechrecognition in /Library/Frameworks/Python.framework/Versions/3.10/lib/python3.10/site-packages (3.10.0)\n",
      "Requirement already satisfied: requests>=2.26.0 in /Library/Frameworks/Python.framework/Versions/3.10/lib/python3.10/site-packages (from speechrecognition) (2.30.0)\n",
      "Requirement already satisfied: charset-normalizer<4,>=2 in /Library/Frameworks/Python.framework/Versions/3.10/lib/python3.10/site-packages (from requests>=2.26.0->speechrecognition) (3.1.0)\n",
      "Requirement already satisfied: idna<4,>=2.5 in /Library/Frameworks/Python.framework/Versions/3.10/lib/python3.10/site-packages (from requests>=2.26.0->speechrecognition) (3.4)\n",
      "Requirement already satisfied: urllib3<3,>=1.21.1 in /Library/Frameworks/Python.framework/Versions/3.10/lib/python3.10/site-packages (from requests>=2.26.0->speechrecognition) (2.0.2)\n",
      "Requirement already satisfied: certifi>=2017.4.17 in /Library/Frameworks/Python.framework/Versions/3.10/lib/python3.10/site-packages (from requests>=2.26.0->speechrecognition) (2023.5.7)\n"
     ]
    }
   ],
   "source": [
    "!pip3 install speechrecognition"
   ]
  },
  {
   "cell_type": "markdown",
   "metadata": {},
   "source": [
    "python3 -m pip install PyAudio-0.2.11-cp39-cp39-win_amd64.whl "
   ]
  },
  {
   "cell_type": "code",
   "execution_count": 2,
   "metadata": {},
   "outputs": [
    {
     "name": "stdout",
     "output_type": "stream",
     "text": [
      "Requirement already satisfied: pyttsx3 in /Library/Frameworks/Python.framework/Versions/3.10/lib/python3.10/site-packages (2.90)\n",
      "Requirement already satisfied: pyobjc>=2.4 in /Library/Frameworks/Python.framework/Versions/3.10/lib/python3.10/site-packages (from pyttsx3) (9.2)\n",
      "Requirement already satisfied: pyobjc-core==9.2 in /Library/Frameworks/Python.framework/Versions/3.10/lib/python3.10/site-packages (from pyobjc>=2.4->pyttsx3) (9.2)\n",
      "Requirement already satisfied: pyobjc-framework-AddressBook==9.2 in /Library/Frameworks/Python.framework/Versions/3.10/lib/python3.10/site-packages (from pyobjc>=2.4->pyttsx3) (9.2)\n",
      "Requirement already satisfied: pyobjc-framework-AppleScriptKit==9.2 in /Library/Frameworks/Python.framework/Versions/3.10/lib/python3.10/site-packages (from pyobjc>=2.4->pyttsx3) (9.2)\n",
      "Requirement already satisfied: pyobjc-framework-ApplicationServices==9.2 in /Library/Frameworks/Python.framework/Versions/3.10/lib/python3.10/site-packages (from pyobjc>=2.4->pyttsx3) (9.2)\n",
      "Requirement already satisfied: pyobjc-framework-Automator==9.2 in /Library/Frameworks/Python.framework/Versions/3.10/lib/python3.10/site-packages (from pyobjc>=2.4->pyttsx3) (9.2)\n",
      "Requirement already satisfied: pyobjc-framework-CFNetwork==9.2 in /Library/Frameworks/Python.framework/Versions/3.10/lib/python3.10/site-packages (from pyobjc>=2.4->pyttsx3) (9.2)\n",
      "Requirement already satisfied: pyobjc-framework-Cocoa==9.2 in /Library/Frameworks/Python.framework/Versions/3.10/lib/python3.10/site-packages (from pyobjc>=2.4->pyttsx3) (9.2)\n",
      "Requirement already satisfied: pyobjc-framework-CoreAudio==9.2 in /Library/Frameworks/Python.framework/Versions/3.10/lib/python3.10/site-packages (from pyobjc>=2.4->pyttsx3) (9.2)\n",
      "Requirement already satisfied: pyobjc-framework-CoreAudioKit==9.2 in /Library/Frameworks/Python.framework/Versions/3.10/lib/python3.10/site-packages (from pyobjc>=2.4->pyttsx3) (9.2)\n",
      "Requirement already satisfied: pyobjc-framework-CoreData==9.2 in /Library/Frameworks/Python.framework/Versions/3.10/lib/python3.10/site-packages (from pyobjc>=2.4->pyttsx3) (9.2)\n",
      "Requirement already satisfied: pyobjc-framework-CoreMIDI==9.2 in /Library/Frameworks/Python.framework/Versions/3.10/lib/python3.10/site-packages (from pyobjc>=2.4->pyttsx3) (9.2)\n",
      "Requirement already satisfied: pyobjc-framework-CoreServices==9.2 in /Library/Frameworks/Python.framework/Versions/3.10/lib/python3.10/site-packages (from pyobjc>=2.4->pyttsx3) (9.2)\n",
      "Requirement already satisfied: pyobjc-framework-CoreText==9.2 in /Library/Frameworks/Python.framework/Versions/3.10/lib/python3.10/site-packages (from pyobjc>=2.4->pyttsx3) (9.2)\n",
      "Requirement already satisfied: pyobjc-framework-DiscRecording==9.2 in /Library/Frameworks/Python.framework/Versions/3.10/lib/python3.10/site-packages (from pyobjc>=2.4->pyttsx3) (9.2)\n",
      "Requirement already satisfied: pyobjc-framework-DiscRecordingUI==9.2 in /Library/Frameworks/Python.framework/Versions/3.10/lib/python3.10/site-packages (from pyobjc>=2.4->pyttsx3) (9.2)\n",
      "Requirement already satisfied: pyobjc-framework-DiskArbitration==9.2 in /Library/Frameworks/Python.framework/Versions/3.10/lib/python3.10/site-packages (from pyobjc>=2.4->pyttsx3) (9.2)\n",
      "Requirement already satisfied: pyobjc-framework-DVDPlayback==9.2 in /Library/Frameworks/Python.framework/Versions/3.10/lib/python3.10/site-packages (from pyobjc>=2.4->pyttsx3) (9.2)\n",
      "Requirement already satisfied: pyobjc-framework-ExceptionHandling==9.2 in /Library/Frameworks/Python.framework/Versions/3.10/lib/python3.10/site-packages (from pyobjc>=2.4->pyttsx3) (9.2)\n",
      "Requirement already satisfied: pyobjc-framework-InstallerPlugins==9.2 in /Library/Frameworks/Python.framework/Versions/3.10/lib/python3.10/site-packages (from pyobjc>=2.4->pyttsx3) (9.2)\n",
      "Requirement already satisfied: pyobjc-framework-IOBluetooth==9.2 in /Library/Frameworks/Python.framework/Versions/3.10/lib/python3.10/site-packages (from pyobjc>=2.4->pyttsx3) (9.2)\n",
      "Requirement already satisfied: pyobjc-framework-IOBluetoothUI==9.2 in /Library/Frameworks/Python.framework/Versions/3.10/lib/python3.10/site-packages (from pyobjc>=2.4->pyttsx3) (9.2)\n",
      "Requirement already satisfied: pyobjc-framework-LatentSemanticMapping==9.2 in /Library/Frameworks/Python.framework/Versions/3.10/lib/python3.10/site-packages (from pyobjc>=2.4->pyttsx3) (9.2)\n",
      "Requirement already satisfied: pyobjc-framework-LaunchServices==9.2 in /Library/Frameworks/Python.framework/Versions/3.10/lib/python3.10/site-packages (from pyobjc>=2.4->pyttsx3) (9.2)\n",
      "Requirement already satisfied: pyobjc-framework-OSAKit==9.2 in /Library/Frameworks/Python.framework/Versions/3.10/lib/python3.10/site-packages (from pyobjc>=2.4->pyttsx3) (9.2)\n",
      "Requirement already satisfied: pyobjc-framework-PreferencePanes==9.2 in /Library/Frameworks/Python.framework/Versions/3.10/lib/python3.10/site-packages (from pyobjc>=2.4->pyttsx3) (9.2)\n",
      "Requirement already satisfied: pyobjc-framework-Quartz==9.2 in /Library/Frameworks/Python.framework/Versions/3.10/lib/python3.10/site-packages (from pyobjc>=2.4->pyttsx3) (9.2)\n",
      "Requirement already satisfied: pyobjc-framework-ScreenSaver==9.2 in /Library/Frameworks/Python.framework/Versions/3.10/lib/python3.10/site-packages (from pyobjc>=2.4->pyttsx3) (9.2)\n",
      "Requirement already satisfied: pyobjc-framework-Security==9.2 in /Library/Frameworks/Python.framework/Versions/3.10/lib/python3.10/site-packages (from pyobjc>=2.4->pyttsx3) (9.2)\n",
      "Requirement already satisfied: pyobjc-framework-SecurityFoundation==9.2 in /Library/Frameworks/Python.framework/Versions/3.10/lib/python3.10/site-packages (from pyobjc>=2.4->pyttsx3) (9.2)\n",
      "Requirement already satisfied: pyobjc-framework-SecurityInterface==9.2 in /Library/Frameworks/Python.framework/Versions/3.10/lib/python3.10/site-packages (from pyobjc>=2.4->pyttsx3) (9.2)\n",
      "Requirement already satisfied: pyobjc-framework-SearchKit==9.2 in /Library/Frameworks/Python.framework/Versions/3.10/lib/python3.10/site-packages (from pyobjc>=2.4->pyttsx3) (9.2)\n",
      "Requirement already satisfied: pyobjc-framework-SyncServices==9.2 in /Library/Frameworks/Python.framework/Versions/3.10/lib/python3.10/site-packages (from pyobjc>=2.4->pyttsx3) (9.2)\n",
      "Requirement already satisfied: pyobjc-framework-SystemConfiguration==9.2 in /Library/Frameworks/Python.framework/Versions/3.10/lib/python3.10/site-packages (from pyobjc>=2.4->pyttsx3) (9.2)\n",
      "Requirement already satisfied: pyobjc-framework-WebKit==9.2 in /Library/Frameworks/Python.framework/Versions/3.10/lib/python3.10/site-packages (from pyobjc>=2.4->pyttsx3) (9.2)\n",
      "Requirement already satisfied: pyobjc-framework-AppleScriptObjC==9.2 in /Library/Frameworks/Python.framework/Versions/3.10/lib/python3.10/site-packages (from pyobjc>=2.4->pyttsx3) (9.2)\n",
      "Requirement already satisfied: pyobjc-framework-CoreLocation==9.2 in /Library/Frameworks/Python.framework/Versions/3.10/lib/python3.10/site-packages (from pyobjc>=2.4->pyttsx3) (9.2)\n",
      "Requirement already satisfied: pyobjc-framework-CoreWLAN==9.2 in /Library/Frameworks/Python.framework/Versions/3.10/lib/python3.10/site-packages (from pyobjc>=2.4->pyttsx3) (9.2)\n",
      "Requirement already satisfied: pyobjc-framework-ImageCaptureCore==9.2 in /Library/Frameworks/Python.framework/Versions/3.10/lib/python3.10/site-packages (from pyobjc>=2.4->pyttsx3) (9.2)\n",
      "Requirement already satisfied: pyobjc-framework-IOSurface==9.2 in /Library/Frameworks/Python.framework/Versions/3.10/lib/python3.10/site-packages (from pyobjc>=2.4->pyttsx3) (9.2)\n",
      "Requirement already satisfied: pyobjc-framework-NetFS==9.2 in /Library/Frameworks/Python.framework/Versions/3.10/lib/python3.10/site-packages (from pyobjc>=2.4->pyttsx3) (9.2)\n",
      "Requirement already satisfied: pyobjc-framework-OpenDirectory==9.2 in /Library/Frameworks/Python.framework/Versions/3.10/lib/python3.10/site-packages (from pyobjc>=2.4->pyttsx3) (9.2)\n",
      "Requirement already satisfied: pyobjc-framework-ServiceManagement==9.2 in /Library/Frameworks/Python.framework/Versions/3.10/lib/python3.10/site-packages (from pyobjc>=2.4->pyttsx3) (9.2)\n",
      "Requirement already satisfied: pyobjc-framework-iTunesLibrary==9.2 in /Library/Frameworks/Python.framework/Versions/3.10/lib/python3.10/site-packages (from pyobjc>=2.4->pyttsx3) (9.2)\n",
      "Requirement already satisfied: pyobjc-framework-AVFoundation==9.2 in /Library/Frameworks/Python.framework/Versions/3.10/lib/python3.10/site-packages (from pyobjc>=2.4->pyttsx3) (9.2)\n",
      "Requirement already satisfied: pyobjc-framework-CoreMedia==9.2 in /Library/Frameworks/Python.framework/Versions/3.10/lib/python3.10/site-packages (from pyobjc>=2.4->pyttsx3) (9.2)\n",
      "Requirement already satisfied: pyobjc-framework-CoreMediaIO==9.2 in /Library/Frameworks/Python.framework/Versions/3.10/lib/python3.10/site-packages (from pyobjc>=2.4->pyttsx3) (9.2)\n",
      "Requirement already satisfied: pyobjc-framework-IMServicePlugIn==9.2 in /Library/Frameworks/Python.framework/Versions/3.10/lib/python3.10/site-packages (from pyobjc>=2.4->pyttsx3) (9.2)\n",
      "Requirement already satisfied: pyobjc-framework-StoreKit==9.2 in /Library/Frameworks/Python.framework/Versions/3.10/lib/python3.10/site-packages (from pyobjc>=2.4->pyttsx3) (9.2)\n",
      "Requirement already satisfied: pyobjc-framework-SceneKit==9.2 in /Library/Frameworks/Python.framework/Versions/3.10/lib/python3.10/site-packages (from pyobjc>=2.4->pyttsx3) (9.2)\n",
      "Requirement already satisfied: pyobjc-framework-libdispatch==9.2 in /Library/Frameworks/Python.framework/Versions/3.10/lib/python3.10/site-packages (from pyobjc>=2.4->pyttsx3) (9.2)\n",
      "Requirement already satisfied: pyobjc-framework-libxpc==9.2 in /Library/Frameworks/Python.framework/Versions/3.10/lib/python3.10/site-packages (from pyobjc>=2.4->pyttsx3) (9.2)\n",
      "Requirement already satisfied: pyobjc-framework-AudioVideoBridging==9.2 in /Library/Frameworks/Python.framework/Versions/3.10/lib/python3.10/site-packages (from pyobjc>=2.4->pyttsx3) (9.2)\n",
      "Requirement already satisfied: pyobjc-framework-Accounts==9.2 in /Library/Frameworks/Python.framework/Versions/3.10/lib/python3.10/site-packages (from pyobjc>=2.4->pyttsx3) (9.2)\n",
      "Requirement already satisfied: pyobjc-framework-EventKit==9.2 in /Library/Frameworks/Python.framework/Versions/3.10/lib/python3.10/site-packages (from pyobjc>=2.4->pyttsx3) (9.2)\n",
      "Requirement already satisfied: pyobjc-framework-GameCenter==9.2 in /Library/Frameworks/Python.framework/Versions/3.10/lib/python3.10/site-packages (from pyobjc>=2.4->pyttsx3) (9.2)\n",
      "Requirement already satisfied: pyobjc-framework-Social==9.2 in /Library/Frameworks/Python.framework/Versions/3.10/lib/python3.10/site-packages (from pyobjc>=2.4->pyttsx3) (9.2)\n",
      "Requirement already satisfied: pyobjc-framework-GameKit==9.2 in /Library/Frameworks/Python.framework/Versions/3.10/lib/python3.10/site-packages (from pyobjc>=2.4->pyttsx3) (9.2)\n",
      "Requirement already satisfied: pyobjc-framework-VideoToolbox==9.2 in /Library/Frameworks/Python.framework/Versions/3.10/lib/python3.10/site-packages (from pyobjc>=2.4->pyttsx3) (9.2)\n",
      "Requirement already satisfied: pyobjc-framework-AVKit==9.2 in /Library/Frameworks/Python.framework/Versions/3.10/lib/python3.10/site-packages (from pyobjc>=2.4->pyttsx3) (9.2)\n",
      "Requirement already satisfied: pyobjc-framework-GameController==9.2 in /Library/Frameworks/Python.framework/Versions/3.10/lib/python3.10/site-packages (from pyobjc>=2.4->pyttsx3) (9.2)\n",
      "Requirement already satisfied: pyobjc-framework-MapKit==9.2 in /Library/Frameworks/Python.framework/Versions/3.10/lib/python3.10/site-packages (from pyobjc>=2.4->pyttsx3) (9.2)\n",
      "Requirement already satisfied: pyobjc-framework-MediaAccessibility==9.2 in /Library/Frameworks/Python.framework/Versions/3.10/lib/python3.10/site-packages (from pyobjc>=2.4->pyttsx3) (9.2)\n",
      "Requirement already satisfied: pyobjc-framework-MediaLibrary==9.2 in /Library/Frameworks/Python.framework/Versions/3.10/lib/python3.10/site-packages (from pyobjc>=2.4->pyttsx3) (9.2)\n",
      "Requirement already satisfied: pyobjc-framework-MediaToolbox==9.2 in /Library/Frameworks/Python.framework/Versions/3.10/lib/python3.10/site-packages (from pyobjc>=2.4->pyttsx3) (9.2)\n",
      "Requirement already satisfied: pyobjc-framework-SpriteKit==9.2 in /Library/Frameworks/Python.framework/Versions/3.10/lib/python3.10/site-packages (from pyobjc>=2.4->pyttsx3) (9.2)\n",
      "Requirement already satisfied: pyobjc-framework-CloudKit==9.2 in /Library/Frameworks/Python.framework/Versions/3.10/lib/python3.10/site-packages (from pyobjc>=2.4->pyttsx3) (9.2)\n",
      "Requirement already satisfied: pyobjc-framework-CoreBluetooth==9.2 in /Library/Frameworks/Python.framework/Versions/3.10/lib/python3.10/site-packages (from pyobjc>=2.4->pyttsx3) (9.2)\n",
      "Requirement already satisfied: pyobjc-framework-CryptoTokenKit==9.2 in /Library/Frameworks/Python.framework/Versions/3.10/lib/python3.10/site-packages (from pyobjc>=2.4->pyttsx3) (9.2)\n",
      "Requirement already satisfied: pyobjc-framework-FinderSync==9.2 in /Library/Frameworks/Python.framework/Versions/3.10/lib/python3.10/site-packages (from pyobjc>=2.4->pyttsx3) (9.2)\n",
      "Requirement already satisfied: pyobjc-framework-LocalAuthentication==9.2 in /Library/Frameworks/Python.framework/Versions/3.10/lib/python3.10/site-packages (from pyobjc>=2.4->pyttsx3) (9.2)\n",
      "Requirement already satisfied: pyobjc-framework-MultipeerConnectivity==9.2 in /Library/Frameworks/Python.framework/Versions/3.10/lib/python3.10/site-packages (from pyobjc>=2.4->pyttsx3) (9.2)\n",
      "Requirement already satisfied: pyobjc-framework-NotificationCenter==9.2 in /Library/Frameworks/Python.framework/Versions/3.10/lib/python3.10/site-packages (from pyobjc>=2.4->pyttsx3) (9.2)\n",
      "Requirement already satisfied: pyobjc-framework-Contacts==9.2 in /Library/Frameworks/Python.framework/Versions/3.10/lib/python3.10/site-packages (from pyobjc>=2.4->pyttsx3) (9.2)\n",
      "Requirement already satisfied: pyobjc-framework-ContactsUI==9.2 in /Library/Frameworks/Python.framework/Versions/3.10/lib/python3.10/site-packages (from pyobjc>=2.4->pyttsx3) (9.2)\n",
      "Requirement already satisfied: pyobjc-framework-Metal==9.2 in /Library/Frameworks/Python.framework/Versions/3.10/lib/python3.10/site-packages (from pyobjc>=2.4->pyttsx3) (9.2)\n",
      "Requirement already satisfied: pyobjc-framework-MetalKit==9.2 in /Library/Frameworks/Python.framework/Versions/3.10/lib/python3.10/site-packages (from pyobjc>=2.4->pyttsx3) (9.2)\n",
      "Requirement already satisfied: pyobjc-framework-ModelIO==9.2 in /Library/Frameworks/Python.framework/Versions/3.10/lib/python3.10/site-packages (from pyobjc>=2.4->pyttsx3) (9.2)\n",
      "Requirement already satisfied: pyobjc-framework-NetworkExtension==9.2 in /Library/Frameworks/Python.framework/Versions/3.10/lib/python3.10/site-packages (from pyobjc>=2.4->pyttsx3) (9.2)\n",
      "Requirement already satisfied: pyobjc-framework-Photos==9.2 in /Library/Frameworks/Python.framework/Versions/3.10/lib/python3.10/site-packages (from pyobjc>=2.4->pyttsx3) (9.2)\n",
      "Requirement already satisfied: pyobjc-framework-PhotosUI==9.2 in /Library/Frameworks/Python.framework/Versions/3.10/lib/python3.10/site-packages (from pyobjc>=2.4->pyttsx3) (9.2)\n",
      "Requirement already satisfied: pyobjc-framework-GameplayKit==9.2 in /Library/Frameworks/Python.framework/Versions/3.10/lib/python3.10/site-packages (from pyobjc>=2.4->pyttsx3) (9.2)\n",
      "Requirement already satisfied: pyobjc-framework-Intents==9.2 in /Library/Frameworks/Python.framework/Versions/3.10/lib/python3.10/site-packages (from pyobjc>=2.4->pyttsx3) (9.2)\n",
      "Requirement already satisfied: pyobjc-framework-MediaPlayer==9.2 in /Library/Frameworks/Python.framework/Versions/3.10/lib/python3.10/site-packages (from pyobjc>=2.4->pyttsx3) (9.2)\n",
      "Requirement already satisfied: pyobjc-framework-SafariServices==9.2 in /Library/Frameworks/Python.framework/Versions/3.10/lib/python3.10/site-packages (from pyobjc>=2.4->pyttsx3) (9.2)\n",
      "Requirement already satisfied: pyobjc-framework-ColorSync==9.2 in /Library/Frameworks/Python.framework/Versions/3.10/lib/python3.10/site-packages (from pyobjc>=2.4->pyttsx3) (9.2)\n",
      "Requirement already satisfied: pyobjc-framework-CoreML==9.2 in /Library/Frameworks/Python.framework/Versions/3.10/lib/python3.10/site-packages (from pyobjc>=2.4->pyttsx3) (9.2)\n",
      "Requirement already satisfied: pyobjc-framework-CoreSpotlight==9.2 in /Library/Frameworks/Python.framework/Versions/3.10/lib/python3.10/site-packages (from pyobjc>=2.4->pyttsx3) (9.2)\n",
      "Requirement already satisfied: pyobjc-framework-ExternalAccessory==9.2 in /Library/Frameworks/Python.framework/Versions/3.10/lib/python3.10/site-packages (from pyobjc>=2.4->pyttsx3) (9.2)\n",
      "Requirement already satisfied: pyobjc-framework-MetalPerformanceShaders==9.2 in /Library/Frameworks/Python.framework/Versions/3.10/lib/python3.10/site-packages (from pyobjc>=2.4->pyttsx3) (9.2)\n",
      "Requirement already satisfied: pyobjc-framework-Vision==9.2 in /Library/Frameworks/Python.framework/Versions/3.10/lib/python3.10/site-packages (from pyobjc>=2.4->pyttsx3) (9.2)\n",
      "Requirement already satisfied: pyobjc-framework-AdSupport==9.2 in /Library/Frameworks/Python.framework/Versions/3.10/lib/python3.10/site-packages (from pyobjc>=2.4->pyttsx3) (9.2)\n",
      "Requirement already satisfied: pyobjc-framework-BusinessChat==9.2 in /Library/Frameworks/Python.framework/Versions/3.10/lib/python3.10/site-packages (from pyobjc>=2.4->pyttsx3) (9.2)\n",
      "Requirement already satisfied: pyobjc-framework-NaturalLanguage==9.2 in /Library/Frameworks/Python.framework/Versions/3.10/lib/python3.10/site-packages (from pyobjc>=2.4->pyttsx3) (9.2)\n",
      "Requirement already satisfied: pyobjc-framework-Network==9.2 in /Library/Frameworks/Python.framework/Versions/3.10/lib/python3.10/site-packages (from pyobjc>=2.4->pyttsx3) (9.2)\n",
      "Requirement already satisfied: pyobjc-framework-UserNotifications==9.2 in /Library/Frameworks/Python.framework/Versions/3.10/lib/python3.10/site-packages (from pyobjc>=2.4->pyttsx3) (9.2)\n",
      "Requirement already satisfied: pyobjc-framework-VideoSubscriberAccount==9.2 in /Library/Frameworks/Python.framework/Versions/3.10/lib/python3.10/site-packages (from pyobjc>=2.4->pyttsx3) (9.2)\n",
      "Requirement already satisfied: pyobjc-framework-AuthenticationServices==9.2 in /Library/Frameworks/Python.framework/Versions/3.10/lib/python3.10/site-packages (from pyobjc>=2.4->pyttsx3) (9.2)\n",
      "Requirement already satisfied: pyobjc-framework-AutomaticAssessmentConfiguration==9.2 in /Library/Frameworks/Python.framework/Versions/3.10/lib/python3.10/site-packages (from pyobjc>=2.4->pyttsx3) (9.2)\n",
      "Requirement already satisfied: pyobjc-framework-CoreHaptics==9.2 in /Library/Frameworks/Python.framework/Versions/3.10/lib/python3.10/site-packages (from pyobjc>=2.4->pyttsx3) (9.2)\n",
      "Requirement already satisfied: pyobjc-framework-CoreMotion==9.2 in /Library/Frameworks/Python.framework/Versions/3.10/lib/python3.10/site-packages (from pyobjc>=2.4->pyttsx3) (9.2)\n",
      "Requirement already satisfied: pyobjc-framework-DeviceCheck==9.2 in /Library/Frameworks/Python.framework/Versions/3.10/lib/python3.10/site-packages (from pyobjc>=2.4->pyttsx3) (9.2)\n",
      "Requirement already satisfied: pyobjc-framework-ExecutionPolicy==9.2 in /Library/Frameworks/Python.framework/Versions/3.10/lib/python3.10/site-packages (from pyobjc>=2.4->pyttsx3) (9.2)\n",
      "Requirement already satisfied: pyobjc-framework-FileProvider==9.2 in /Library/Frameworks/Python.framework/Versions/3.10/lib/python3.10/site-packages (from pyobjc>=2.4->pyttsx3) (9.2)\n",
      "Requirement already satisfied: pyobjc-framework-FileProviderUI==9.2 in /Library/Frameworks/Python.framework/Versions/3.10/lib/python3.10/site-packages (from pyobjc>=2.4->pyttsx3) (9.2)\n",
      "Requirement already satisfied: pyobjc-framework-LinkPresentation==9.2 in /Library/Frameworks/Python.framework/Versions/3.10/lib/python3.10/site-packages (from pyobjc>=2.4->pyttsx3) (9.2)\n",
      "Requirement already satisfied: pyobjc-framework-OSLog==9.2 in /Library/Frameworks/Python.framework/Versions/3.10/lib/python3.10/site-packages (from pyobjc>=2.4->pyttsx3) (9.2)\n",
      "Requirement already satisfied: pyobjc-framework-PencilKit==9.2 in /Library/Frameworks/Python.framework/Versions/3.10/lib/python3.10/site-packages (from pyobjc>=2.4->pyttsx3) (9.2)\n",
      "Requirement already satisfied: pyobjc-framework-PushKit==9.2 in /Library/Frameworks/Python.framework/Versions/3.10/lib/python3.10/site-packages (from pyobjc>=2.4->pyttsx3) (9.2)\n",
      "Requirement already satisfied: pyobjc-framework-QuickLookThumbnailing==9.2 in /Library/Frameworks/Python.framework/Versions/3.10/lib/python3.10/site-packages (from pyobjc>=2.4->pyttsx3) (9.2)\n",
      "Requirement already satisfied: pyobjc-framework-Speech==9.2 in /Library/Frameworks/Python.framework/Versions/3.10/lib/python3.10/site-packages (from pyobjc>=2.4->pyttsx3) (9.2)\n",
      "Requirement already satisfied: pyobjc-framework-SoundAnalysis==9.2 in /Library/Frameworks/Python.framework/Versions/3.10/lib/python3.10/site-packages (from pyobjc>=2.4->pyttsx3) (9.2)\n",
      "Requirement already satisfied: pyobjc-framework-SystemExtensions==9.2 in /Library/Frameworks/Python.framework/Versions/3.10/lib/python3.10/site-packages (from pyobjc>=2.4->pyttsx3) (9.2)\n",
      "Requirement already satisfied: pyobjc-framework-Accessibility==9.2 in /Library/Frameworks/Python.framework/Versions/3.10/lib/python3.10/site-packages (from pyobjc>=2.4->pyttsx3) (9.2)\n",
      "Requirement already satisfied: pyobjc-framework-AdServices==9.2 in /Library/Frameworks/Python.framework/Versions/3.10/lib/python3.10/site-packages (from pyobjc>=2.4->pyttsx3) (9.2)\n",
      "Requirement already satisfied: pyobjc-framework-AppTrackingTransparency==9.2 in /Library/Frameworks/Python.framework/Versions/3.10/lib/python3.10/site-packages (from pyobjc>=2.4->pyttsx3) (9.2)\n",
      "Requirement already satisfied: pyobjc-framework-CallKit==9.2 in /Library/Frameworks/Python.framework/Versions/3.10/lib/python3.10/site-packages (from pyobjc>=2.4->pyttsx3) (9.2)\n",
      "Requirement already satisfied: pyobjc-framework-ClassKit==9.2 in /Library/Frameworks/Python.framework/Versions/3.10/lib/python3.10/site-packages (from pyobjc>=2.4->pyttsx3) (9.2)\n",
      "Requirement already satisfied: pyobjc-framework-KernelManagement==9.2 in /Library/Frameworks/Python.framework/Versions/3.10/lib/python3.10/site-packages (from pyobjc>=2.4->pyttsx3) (9.2)\n",
      "Requirement already satisfied: pyobjc-framework-MetalPerformanceShadersGraph==9.2 in /Library/Frameworks/Python.framework/Versions/3.10/lib/python3.10/site-packages (from pyobjc>=2.4->pyttsx3) (9.2)\n",
      "Requirement already satisfied: pyobjc-framework-MLCompute==9.2 in /Library/Frameworks/Python.framework/Versions/3.10/lib/python3.10/site-packages (from pyobjc>=2.4->pyttsx3) (9.2)\n",
      "Requirement already satisfied: pyobjc-framework-PassKit==9.2 in /Library/Frameworks/Python.framework/Versions/3.10/lib/python3.10/site-packages (from pyobjc>=2.4->pyttsx3) (9.2)\n",
      "Requirement already satisfied: pyobjc-framework-ReplayKit==9.2 in /Library/Frameworks/Python.framework/Versions/3.10/lib/python3.10/site-packages (from pyobjc>=2.4->pyttsx3) (9.2)\n",
      "Requirement already satisfied: pyobjc-framework-ScreenTime==9.2 in /Library/Frameworks/Python.framework/Versions/3.10/lib/python3.10/site-packages (from pyobjc>=2.4->pyttsx3) (9.2)\n",
      "Requirement already satisfied: pyobjc-framework-UniformTypeIdentifiers==9.2 in /Library/Frameworks/Python.framework/Versions/3.10/lib/python3.10/site-packages (from pyobjc>=2.4->pyttsx3) (9.2)\n",
      "Requirement already satisfied: pyobjc-framework-UserNotificationsUI==9.2 in /Library/Frameworks/Python.framework/Versions/3.10/lib/python3.10/site-packages (from pyobjc>=2.4->pyttsx3) (9.2)\n",
      "Requirement already satisfied: pyobjc-framework-Virtualization==9.2 in /Library/Frameworks/Python.framework/Versions/3.10/lib/python3.10/site-packages (from pyobjc>=2.4->pyttsx3) (9.2)\n",
      "Requirement already satisfied: pyobjc-framework-DataDetection==9.2 in /Library/Frameworks/Python.framework/Versions/3.10/lib/python3.10/site-packages (from pyobjc>=2.4->pyttsx3) (9.2)\n",
      "Requirement already satisfied: pyobjc-framework-IntentsUI==9.2 in /Library/Frameworks/Python.framework/Versions/3.10/lib/python3.10/site-packages (from pyobjc>=2.4->pyttsx3) (9.2)\n",
      "Requirement already satisfied: pyobjc-framework-LocalAuthenticationEmbeddedUI==9.2 in /Library/Frameworks/Python.framework/Versions/3.10/lib/python3.10/site-packages (from pyobjc>=2.4->pyttsx3) (9.2)\n",
      "Requirement already satisfied: pyobjc-framework-MailKit==9.2 in /Library/Frameworks/Python.framework/Versions/3.10/lib/python3.10/site-packages (from pyobjc>=2.4->pyttsx3) (9.2)\n",
      "Requirement already satisfied: pyobjc-framework-MetricKit==9.2 in /Library/Frameworks/Python.framework/Versions/3.10/lib/python3.10/site-packages (from pyobjc>=2.4->pyttsx3) (9.2)\n",
      "Requirement already satisfied: pyobjc-framework-PHASE==9.2 in /Library/Frameworks/Python.framework/Versions/3.10/lib/python3.10/site-packages (from pyobjc>=2.4->pyttsx3) (9.2)\n",
      "Requirement already satisfied: pyobjc-framework-ShazamKit==9.2 in /Library/Frameworks/Python.framework/Versions/3.10/lib/python3.10/site-packages (from pyobjc>=2.4->pyttsx3) (9.2)\n",
      "Requirement already satisfied: pyobjc-framework-ScreenCaptureKit==9.2 in /Library/Frameworks/Python.framework/Versions/3.10/lib/python3.10/site-packages (from pyobjc>=2.4->pyttsx3) (9.2)\n",
      "Requirement already satisfied: pyobjc-framework-AVRouting==9.2 in /Library/Frameworks/Python.framework/Versions/3.10/lib/python3.10/site-packages (from pyobjc>=2.4->pyttsx3) (9.2)\n",
      "Requirement already satisfied: pyobjc-framework-BackgroundAssets==9.2 in /Library/Frameworks/Python.framework/Versions/3.10/lib/python3.10/site-packages (from pyobjc>=2.4->pyttsx3) (9.2)\n",
      "Requirement already satisfied: pyobjc-framework-ExtensionKit==9.2 in /Library/Frameworks/Python.framework/Versions/3.10/lib/python3.10/site-packages (from pyobjc>=2.4->pyttsx3) (9.2)\n",
      "Requirement already satisfied: pyobjc-framework-HealthKit==9.2 in /Library/Frameworks/Python.framework/Versions/3.10/lib/python3.10/site-packages (from pyobjc>=2.4->pyttsx3) (9.2)\n",
      "Requirement already satisfied: pyobjc-framework-MetalFX==9.2 in /Library/Frameworks/Python.framework/Versions/3.10/lib/python3.10/site-packages (from pyobjc>=2.4->pyttsx3) (9.2)\n",
      "Requirement already satisfied: pyobjc-framework-SafetyKit==9.2 in /Library/Frameworks/Python.framework/Versions/3.10/lib/python3.10/site-packages (from pyobjc>=2.4->pyttsx3) (9.2)\n",
      "Requirement already satisfied: pyobjc-framework-SharedWithYouCore==9.2 in /Library/Frameworks/Python.framework/Versions/3.10/lib/python3.10/site-packages (from pyobjc>=2.4->pyttsx3) (9.2)\n",
      "Requirement already satisfied: pyobjc-framework-SharedWithYou==9.2 in /Library/Frameworks/Python.framework/Versions/3.10/lib/python3.10/site-packages (from pyobjc>=2.4->pyttsx3) (9.2)\n",
      "Requirement already satisfied: pyobjc-framework-ThreadNetwork==9.2 in /Library/Frameworks/Python.framework/Versions/3.10/lib/python3.10/site-packages (from pyobjc>=2.4->pyttsx3) (9.2)\n",
      "Requirement already satisfied: pyobjc-framework-CalendarStore==9.2 in /Library/Frameworks/Python.framework/Versions/3.10/lib/python3.10/site-packages (from pyobjc>=2.4->pyttsx3) (9.2)\n",
      "Requirement already satisfied: pyobjc-framework-Collaboration==9.2 in /Library/Frameworks/Python.framework/Versions/3.10/lib/python3.10/site-packages (from pyobjc>=2.4->pyttsx3) (9.2)\n",
      "Requirement already satisfied: pyobjc-framework-DictionaryServices==9.2 in /Library/Frameworks/Python.framework/Versions/3.10/lib/python3.10/site-packages (from pyobjc>=2.4->pyttsx3) (9.2)\n",
      "Requirement already satisfied: pyobjc-framework-FSEvents==9.2 in /Library/Frameworks/Python.framework/Versions/3.10/lib/python3.10/site-packages (from pyobjc>=2.4->pyttsx3) (9.2)\n",
      "Requirement already satisfied: pyobjc-framework-InputMethodKit==9.2 in /Library/Frameworks/Python.framework/Versions/3.10/lib/python3.10/site-packages (from pyobjc>=2.4->pyttsx3) (9.2)\n",
      "Requirement already satisfied: pyobjc-framework-InstantMessage==9.2 in /Library/Frameworks/Python.framework/Versions/3.10/lib/python3.10/site-packages (from pyobjc>=2.4->pyttsx3) (9.2)\n",
      "Requirement already satisfied: pyobjc-framework-ScriptingBridge==9.2 in /Library/Frameworks/Python.framework/Versions/3.10/lib/python3.10/site-packages (from pyobjc>=2.4->pyttsx3) (9.2)\n",
      "Requirement already satisfied: nltk in /Library/Frameworks/Python.framework/Versions/3.10/lib/python3.10/site-packages (3.8.1)\n",
      "Requirement already satisfied: click in /Library/Frameworks/Python.framework/Versions/3.10/lib/python3.10/site-packages (from nltk) (8.1.3)\n",
      "Requirement already satisfied: joblib in /Library/Frameworks/Python.framework/Versions/3.10/lib/python3.10/site-packages (from nltk) (1.2.0)\n",
      "Requirement already satisfied: regex>=2021.8.3 in /Library/Frameworks/Python.framework/Versions/3.10/lib/python3.10/site-packages (from nltk) (2023.6.3)\n",
      "Requirement already satisfied: tqdm in /Library/Frameworks/Python.framework/Versions/3.10/lib/python3.10/site-packages (from nltk) (4.65.0)\n"
     ]
    }
   ],
   "source": [
    "!pip3 install pyttsx3\n",
    "!pip3 install nltk"
   ]
  },
  {
   "cell_type": "code",
   "execution_count": 3,
   "metadata": {},
   "outputs": [
    {
     "name": "stdout",
     "output_type": "stream",
     "text": [
      "Requirement already satisfied: pyaudio in /Library/Frameworks/Python.framework/Versions/3.10/lib/python3.10/site-packages (0.2.13)\n"
     ]
    }
   ],
   "source": [
    "!pip3 install pyaudio"
   ]
  },
  {
   "cell_type": "code",
   "execution_count": 2,
   "metadata": {},
   "outputs": [],
   "source": [
    "import speech_recognition as sr"
   ]
  },
  {
   "cell_type": "code",
   "execution_count": 5,
   "metadata": {},
   "outputs": [
    {
     "name": "stdout",
     "output_type": "stream",
     "text": [
      "Speak\n",
      "Error  \n",
      "\n"
     ]
    }
   ],
   "source": [
    "rec = sr.Recognizer()\n",
    "\n",
    "with sr.Microphone() as mic: \n",
    "    print('Speak')\n",
    "    audio = rec.listen(mic, timeout=1, phrase_time_limit=4)\n",
    "\n",
    "    try:\n",
    "        text = rec.recognize_google(audio) # recognise only when online\n",
    "        print('You Said: ', text)\n",
    "    except Exception as err:\n",
    "        print('Error ', err, end = '\\n\\n')"
   ]
  },
  {
   "cell_type": "code",
   "execution_count": 1,
   "metadata": {},
   "outputs": [
    {
     "ename": "",
     "evalue": "",
     "output_type": "error",
     "traceback": [
      "\u001b[1;31mCannot execute code, session has been disposed. Please try restarting the Kernel."
     ]
    },
    {
     "ename": "",
     "evalue": "",
     "output_type": "error",
     "traceback": [
      "\u001b[1;31mThe Kernel crashed while executing code in the the current cell or a previous cell. Please review the code in the cell(s) to identify a possible cause of the failure. Click <a href='https://aka.ms/vscodeJupyterKernelCrash'>here</a> for more info. View Jupyter <a href='command:jupyter.viewOutput'>log</a> for further details."
     ]
    }
   ],
   "source": [
    "import pyttsx3\n",
    "\n",
    "spk = pyttsx3.init();\n",
    "spk.setProperty('rate',150) # words per minute\n",
    "spk.setProperty('volume',1.0) # 1.0 = 100% volume\n",
    "\n",
    "spk.say('Hello there...')\n",
    "spk.runAndWait()\n"
   ]
  },
  {
   "cell_type": "code",
   "execution_count": 1,
   "metadata": {},
   "outputs": [
    {
     "name": "stdout",
     "output_type": "stream",
     "text": [
      "Speak:\n"
     ]
    },
    {
     "ename": "",
     "evalue": "",
     "output_type": "error",
     "traceback": [
      "\u001b[1;31mCannot execute code, session has been disposed. Please try restarting the Kernel."
     ]
    },
    {
     "ename": "",
     "evalue": "",
     "output_type": "error",
     "traceback": [
      "\u001b[1;31mThe Kernel crashed while executing code in the the current cell or a previous cell. Please review the code in the cell(s) to identify a possible cause of the failure. Click <a href='https://aka.ms/vscodeJupyterKernelCrash'>here</a> for more info. View Jupyter <a href='command:jupyter.viewOutput'>log</a> for further details."
     ]
    }
   ],
   "source": [
    "import speech_recognition as sr\n",
    "import pyttsx3\n",
    "\n",
    "spk = pyttsx3.init()\n",
    "spk.setProperty('rate', 140)    # words per minute\n",
    "spk.setProperty('volume', 1.0)  # 100% volume\n",
    "\n",
    "rec = sr.Recognizer()\n",
    "\n",
    "with sr.Microphone() as mic:\n",
    "    print('Speak:')\n",
    "    spk.say('Speak Now')\n",
    "    spk.runAndWait()\n",
    "    audio = rec.listen(mic, timeout=1, phrase_time_limit=4)\n",
    "    \n",
    "    try:\n",
    "        text = rec.recognize_google(audio)        \n",
    "        print('You said:', text, end='\\n\\n')\n",
    "        spk.say('You might have said, ' + text)\n",
    "        spk.runAndWait()\n",
    "    except Exception as err:\n",
    "        print('Error:', err, end = '\\n\\n')\n",
    "\n"
   ]
  },
  {
   "cell_type": "code",
   "execution_count": null,
   "metadata": {},
   "outputs": [],
   "source": []
  }
 ],
 "metadata": {
  "kernelspec": {
   "display_name": "Python 3",
   "language": "python",
   "name": "python3"
  },
  "language_info": {
   "codemirror_mode": {
    "name": "ipython",
    "version": 3
   },
   "file_extension": ".py",
   "mimetype": "text/x-python",
   "name": "python",
   "nbconvert_exporter": "python",
   "pygments_lexer": "ipython3",
   "version": "3.10.11"
  },
  "orig_nbformat": 4
 },
 "nbformat": 4,
 "nbformat_minor": 2
}
